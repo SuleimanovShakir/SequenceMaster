{
 "cells": [
  {
   "cell_type": "code",
   "execution_count": 1,
   "metadata": {},
   "outputs": [],
   "source": [
    "from sequence_tools import run_genscan, RNAsequence, DNAsequence, AminoAcidSequence, fastq_filter\n",
    "from bio_files_processor import convert_multiline_fasta_to_oneline"
   ]
  },
  {
   "attachments": {},
   "cell_type": "markdown",
   "metadata": {},
   "source": [
    "### 1. GenScan Parser"
   ]
  },
  {
   "attachments": {},
   "cell_type": "markdown",
   "metadata": {},
   "source": [
    "Run run_genscan for the file *example_data/transferrin.fasta*"
   ]
  },
  {
   "cell_type": "code",
   "execution_count": 2,
   "metadata": {},
   "outputs": [],
   "source": [
    "results = run_genscan(sequence_file='example_data/transferrin.fasta')"
   ]
  },
  {
   "attachments": {},
   "cell_type": "markdown",
   "metadata": {},
   "source": [
    "Explore the results"
   ]
  },
  {
   "cell_type": "code",
   "execution_count": 3,
   "metadata": {},
   "outputs": [
    {
     "data": {
      "text/plain": [
       "GenscanOutput run with status code 200. 6 cds were found. 50 intorns were found. 52 exons were found"
      ]
     },
     "execution_count": 3,
     "metadata": {},
     "output_type": "execute_result"
    }
   ],
   "source": [
    "results"
   ]
  },
  {
   "cell_type": "code",
   "execution_count": 4,
   "metadata": {},
   "outputs": [
    {
     "data": {
      "text/plain": [
       "{'GENSCAN_predicted_peptide_1': 'MRLAICALLCAGALMGAGQSVQPTEHDPKQVLEVLDRAIRQEKETKGIRLGKEEVKFSLWADDMIVYLENPIVSAQNLLKLISNFSKVSGYKINVQKSQAFLYTNNRQTESQIMSELPFTIASKRIKYLGTQLTRDVKDLFKNYKPLLNEIKEDTNKWKNIHCSWIGRINFVKMAILPKANEADAVTIDGGLVFEAGLAPYSLKPIVVEIYGSKDAAAKFFSSSCVPCEDMKNFPRLCQLCAGKGTDKCACSSQESYFGYAGALKNLANKADKDQYELLCLNNTQKLEHFGKDKSSEFQLFGSPHETDLLFTDAAHGFLMVPPKIDAKLYLGYEYFSATQDPKRGGVIPPRKGEADAMSLDAGFIYIAGKCGLVPVLAENYKQFRSKCVNLPMEGPQPGDMLYLIPLCCHV',\n",
       " 'GENSCAN_predicted_peptide_2': 'MIMMKGSIQQEDITIGCARGDSLIGSKLTISEIKISMKEKTQNSLCGFFSASLQQICQPASPVPSSAVQAQVSALSRREHPEHLSRQCPWCKLLHMRFSHLQPTGSLFILQKKRDTKQDSGSFQMQQPDAGMMEEVTGQEMYWLGAKIKVVHRHYLPESPTGAVVSLLAVVSPYVGRIAPATTQSTERGIRIRPRGTTATEEIICEKGQPEKQKDEKEEDLLKEM',\n",
       " 'GENSCAN_predicted_peptide_3': 'MDKFLNTYTLPRLNQEEVESLNRPITGSEIVAIINSLPTKKSPGPDGFTAEFYQRYKEELVPFLLRLFQSIEKEGILPYSFYEASIILISKPGRDTIKKENFRPISLMNIDAKILNKILANRIQQHVQKLIHHDQVGFIPGMQGWFNIRKLINVIQHINRTKDKNHMIISIDVEKAFDKIQQPFMLKTLNKLGIDGTYLKIIRAIYDKPTANIILNGQKLEAFLLKTGTRQGCPLSPLLFNIVLEVLARAIRQEKEIKGIQLGKEEVKLSLFADDMIVYLENPIVSAQNLLKLISNFSKVSGCKINVQKSQAFLYTNNRQTESQIMSELPFTIASKRIKYLGIQLTRDVKDLPKENYKPLLNEIKKDTNKWKNLPCSWLGRINIVKMAILPKVIYRFNAIPIKLPMTFFTELEKTTLKFIWNQKRAPIAKSILSQKNKAGGITLPDFKLYYKATVTKTAWYWYQNRDIDQWNRTEPSEITPHIYNYLIFDKPEKNKQWGKDSLSNKWCWENWLAICRKLKLDPFLTPYTKINSRWIKDLHVRPKTIKSLEENLGNTIQDIGMGKDFMSKTPKAMATKANIDKWDLIKLKSFCTAKETTIRVNRQPTKWEKIFATDSSDKGLISRIYNELKQIYKKKPNNPIKCGQRI',\n",
       " 'GENSCAN_predicted_peptide_4': 'MGKKQNRKTGNSKKQSASPPPKECSSSPATEQSWMEKDFDKLREEGFRQSNYSKLQEEIQTKGKEVINFEKNLDECITRITNTEKCLKELMELKAKAQELREECRSLRS',\n",
       " 'GENSCAN_predicted_peptide_5': 'MLSKRTNQHSVKRTNQHSIKWTNQLSVKWTNQQDVGLQLLASQEQNWTENEFDELTEIGFRRWVITNPSELKEHVLTQCKEAKNLEKRTNDKNHMIISIDAGKAFNKIQHPFMLKTRNKLGIDGTYLKIIKAIYDKPTANIILNRQKLEAFPLKTGTRQGCPLFPLLFNIVLKVLVRAIRQEKEIKGIQIGREEVKFSLFADDVIVYSENPIVSVQNLLKLISNFSKVSGYKINVQKSQAFLYTNNRQTEHQIMSGLPFTIATKRIKYLGIQLTRDVKDLFKENYKPLLN',\n",
       " 'GENSCAN_predicted_peptide_6': 'MRLAVGALLVCAVLGLCLAVPDKTVRWCAVSEHEATKCQSFRDHMKSVIPSDGPSVACVKKASYLDCIRAIAANEADAVTLDAGLVYDAYLAPNNLKPVVAEFYGSKEDPQTFYYAVAVVKKDSGFQMNQLRGKKSCHTGLGRSAGWNIPIGLLYCDLPEPRKPLEKAVANFFSGSCAPCADGTDFPQLCQLCPGCGCSTLNQYFGYSGAFKCLKDGAGDVAFVKHSTIFENLANKADRDQYELLCLDNTRKPVDEYKDCHLAQVPSHTVVARSMGGKEDLIWELLNQAQEHFGKDKSKEFQLFSSPHGKDLLFKDSAHGFLKVPPRMDAKMYLGYEYVTAIRNLREGTCPEAPTDECKPVKWCALSHHERLKCDEWSVNSVGKIECVSAETTEDCIAKIMNGEADAMSLDGGFVYIAGKCGLVPVLAENYNKSDNCEDTPEAGYFAIAVVKKSASDLTWDNLKGKKSCHTAVGRTAGWNIPMGLLYNKINHCRFDEFFSEGCAPGSKKDSSLCKLCMGSGLNLCEPNNKEGYYGYTGAFRCLVEKGDVAFVKHQTVPQNTGGKNPDPWAKNLNEKDYELLCLDGTRKPVEEYANCHLARAPNHAVVTRKDKEACVHKILRQQQHLFGSNVTDCSGNFCLFRSETKDLLFRDDTVCLAKLHDRNTYEKYLGEEYVKAVGNLRKCSTSSANHFSSPTCRLQGLPAQPCQAQTKLLLSRLDAAPLGGGRPWSRADPGLRVAAMSQVDDTHLVPRTTDKVLNGPRRAYIK'}"
      ]
     },
     "execution_count": 4,
     "metadata": {},
     "output_type": "execute_result"
    }
   ],
   "source": [
    "results.cds_list"
   ]
  },
  {
   "attachments": {},
   "cell_type": "markdown",
   "metadata": {},
   "source": [
    "### 2. Convert multiline .fasta to oneline .fasta"
   ]
  },
  {
   "cell_type": "code",
   "execution_count": 5,
   "metadata": {},
   "outputs": [
    {
     "name": "stdout",
     "output_type": "stream",
     "text": [
      "Multiline FASTA is converted to oneline!\n"
     ]
    }
   ],
   "source": [
    "convert_multiline_fasta_to_oneline('example_data/example_multiline_fasta.fasta')"
   ]
  },
  {
   "attachments": {},
   "cell_type": "markdown",
   "metadata": {},
   "source": [
    "Converted files is stored in new folder"
   ]
  },
  {
   "attachments": {},
   "cell_type": "markdown",
   "metadata": {},
   "source": [
    "### 3. Sequencing games"
   ]
  },
  {
   "cell_type": "code",
   "execution_count": 6,
   "metadata": {},
   "outputs": [
    {
     "data": {
      "text/plain": [
       "0.5"
      ]
     },
     "execution_count": 6,
     "metadata": {},
     "output_type": "execute_result"
    }
   ],
   "source": [
    "rna = RNAsequence('AUGCAUGCAUGCAUGC')\n",
    "rna.gc_content()"
   ]
  },
  {
   "cell_type": "code",
   "execution_count": 7,
   "metadata": {},
   "outputs": [
    {
     "data": {
      "text/plain": [
       "'UACGUACGUACGUACG'"
      ]
     },
     "execution_count": 7,
     "metadata": {},
     "output_type": "execute_result"
    }
   ],
   "source": [
    "rna = RNAsequence('AUGCAUGCAUGCAUGC')\n",
    "rna.complement()"
   ]
  },
  {
   "cell_type": "code",
   "execution_count": 8,
   "metadata": {},
   "outputs": [
    {
     "data": {
      "text/plain": [
       "sequence_tools.RNAsequence"
      ]
     },
     "execution_count": 8,
     "metadata": {},
     "output_type": "execute_result"
    }
   ],
   "source": [
    "type(rna)"
   ]
  },
  {
   "cell_type": "code",
   "execution_count": 9,
   "metadata": {},
   "outputs": [
    {
     "data": {
      "text/plain": [
       "'UACGUACGUACGUACG'"
      ]
     },
     "execution_count": 9,
     "metadata": {},
     "output_type": "execute_result"
    }
   ],
   "source": [
    "dna = DNAsequence('ATGCATGCATGCATGC')\n",
    "dna.transcribe()"
   ]
  },
  {
   "cell_type": "code",
   "execution_count": 10,
   "metadata": {},
   "outputs": [
    {
     "data": {
      "text/plain": [
       "(sequence_tools.DNAsequence, sequence_tools.RNAsequence)"
      ]
     },
     "execution_count": 10,
     "metadata": {},
     "output_type": "execute_result"
    }
   ],
   "source": [
    "type(dna), type(dna.transcribe())"
   ]
  },
  {
   "cell_type": "code",
   "execution_count": 11,
   "metadata": {},
   "outputs": [
    {
     "data": {
      "text/plain": [
       "1046.5912700000001"
      ]
     },
     "execution_count": 11,
     "metadata": {},
     "output_type": "execute_result"
    }
   ],
   "source": [
    "aminoacid = AminoAcidSequence('KTGFALKPGF')\n",
    "aminoacid.protein_mass()"
   ]
  },
  {
   "attachments": {},
   "cell_type": "markdown",
   "metadata": {},
   "source": [
    "### 4. Filter fastqc"
   ]
  },
  {
   "cell_type": "code",
   "execution_count": 12,
   "metadata": {},
   "outputs": [
    {
     "name": "stdout",
     "output_type": "stream",
     "text": [
      "Fastq filtering has been finished!\n"
     ]
    }
   ],
   "source": [
    "fastq_filter('example_data/example_fastq.fastq', 'filtered_fastq', gc_bound=(40,60), length_bound=(0, 200), quality_threshold=25)"
   ]
  },
  {
   "attachments": {},
   "cell_type": "markdown",
   "metadata": {},
   "source": [
    "Filtered files is stored in new folder"
   ]
  }
 ],
 "metadata": {
  "kernelspec": {
   "display_name": "SequenceMaster",
   "language": "python",
   "name": "python3"
  },
  "language_info": {
   "codemirror_mode": {
    "name": "ipython",
    "version": 3
   },
   "file_extension": ".py",
   "mimetype": "text/x-python",
   "name": "python",
   "nbconvert_exporter": "python",
   "pygments_lexer": "ipython3",
   "version": "3.10.12"
  },
  "orig_nbformat": 4,
  "vscode": {
   "interpreter": {
    "hash": "012a5ba742eb9f3ce4da472412e2e61e354f0d64f1327e0ee82266ce1a927451"
   }
  }
 },
 "nbformat": 4,
 "nbformat_minor": 2
}
